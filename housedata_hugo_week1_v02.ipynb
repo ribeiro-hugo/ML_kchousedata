{
 "cells": [
  {
   "cell_type": "markdown",
   "metadata": {},
   "source": [
    "# Introduction\n",
    "\n",
    "We already know from previous analysis:\n",
    "\n",
    "- Some features are categorical: ['waterfront', 'view','condition','grade']\n",
    "- Some features don't have a clear relationship with \"Price\" ['yr_built', 'yr_renovated', 'long', 'sqft_lot', 'sqft_lot15']"
   ]
  },
  {
   "cell_type": "code",
   "execution_count": 96,
   "metadata": {},
   "outputs": [],
   "source": [
    "# importing libraries\n",
    "\n",
    "import pandas as pd\n",
    "import numpy as np\n",
    "import matplotlib.pyplot as plt\n",
    "from sklearn.linear_model import LinearRegression\n",
    "from sklearn.preprocessing import PolynomialFeatures\n",
    "from sklearn.pipeline import Pipeline\n",
    "from sklearn.model_selection import train_test_split, cross_validate, GridSearchCV\n",
    "from sklearn.metrics import mean_squared_error\n",
    "from sklearn.pipeline import Pipeline\n"
   ]
  },
  {
   "cell_type": "code",
   "execution_count": 97,
   "metadata": {},
   "outputs": [],
   "source": [
    "# load dataset from .csv, \n",
    "# split into X and y and \n",
    "# remove columns I don't want or need ['id','date', 'zipcode'] \n",
    "\n",
    "dataset = pd.read_csv('kc_house_data.csv')\n",
    "y = dataset[['price']]\n",
    "X = dataset.drop(['price', 'id','date','zipcode'],axis=1)\n"
   ]
  },
  {
   "cell_type": "code",
   "execution_count": 98,
   "metadata": {},
   "outputs": [
    {
     "data": {
      "text/plain": [
       "(21613, 17)"
      ]
     },
     "execution_count": 98,
     "metadata": {},
     "output_type": "execute_result"
    }
   ],
   "source": [
    "X.shape"
   ]
  },
  {
   "cell_type": "markdown",
   "metadata": {},
   "source": [
    "# Function to run my model:\n"
   ]
  },
  {
   "cell_type": "code",
   "execution_count": 99,
   "metadata": {},
   "outputs": [],
   "source": [
    "def run_model(X_input,y_input):\n",
    "    x_train, x_test, y_train, y_test = train_test_split(X_input, y_input, test_size=0.2)\n",
    "    lr = LinearRegression()\n",
    "    lr.fit(x_train, y_train)\n",
    "    \n",
    "    train_score = lr.score(x_train,y_train)\n",
    "    train_preds = lr.predict(x_train)\n",
    "    train_rmse = np.sqrt(mean_squared_error(y_train,train_preds))\n",
    "    print(\"Train :: R^2 = \" + \"%.2f\"%train_score + \" :: RMSE = \" + \"%.2f\"%train_rmse)\n",
    "    \n",
    "    test_score = lr.score(x_test,y_test)\n",
    "    test_preds = lr.predict(x_test)\n",
    "    test_rmse = np.sqrt(mean_squared_error(y_test,test_preds))\n",
    "    print(\"Test  :: R^2 = \" + \"%.2f\"%test_score  + \" :: RMSE = \" + \"%.2f\"%test_rmse)"
   ]
  },
  {
   "cell_type": "markdown",
   "metadata": {},
   "source": [
    "I will run the model for different modifications of my dataset\n",
    "\n",
    "- All data (after dropping ['price', 'id','date','zipcode'])\n",
    "- Without categorical_features ['waterfront', 'view','condition','grade']\n",
    "- Without low_linearity_features ['yr_built', 'yr_renovated', 'long', 'sqft_lot', 'sqft_lot15']\n",
    "- Without categorical_features and low_linearity_features"
   ]
  },
  {
   "cell_type": "code",
   "execution_count": 100,
   "metadata": {},
   "outputs": [],
   "source": [
    "#from previous studies, we know:\n",
    "categorical_features = ['waterfront', 'view','condition','grade']\n",
    "low_linearity_features = ['yr_built', 'yr_renovated', 'long', 'sqft_lot', 'sqft_lot15']"
   ]
  },
  {
   "cell_type": "code",
   "execution_count": 101,
   "metadata": {},
   "outputs": [
    {
     "name": "stdout",
     "output_type": "stream",
     "text": [
      "\n",
      "All data\n",
      "Train :: R^2 = 0.70 :: RMSE = 200361.55\n",
      "Test  :: R^2 = 0.68 :: RMSE = 211855.94\n",
      "\n",
      "No categorical_features\n",
      "Train :: R^2 = 0.63 :: RMSE = 220356.23\n",
      "Test  :: R^2 = 0.61 :: RMSE = 243711.29\n",
      "\n",
      "No low_linearity_features\n",
      "Train :: R^2 = 0.67 :: RMSE = 209689.28\n",
      "Test  :: R^2 = 0.65 :: RMSE = 221804.27\n",
      "\n",
      "No categorical_features + low_linearity_features\n",
      "Train :: R^2 = 0.59 :: RMSE = 237873.28\n",
      "Test  :: R^2 = 0.56 :: RMSE = 234618.77\n"
     ]
    }
   ],
   "source": [
    "print(\"\\nAll data\")\n",
    "run_model(X,y)\n",
    "\n",
    "print(\"\\nNo categorical_features\")\n",
    "run_model(X.drop(categorical_features, axis=1),y)\n",
    "\n",
    "print(\"\\nNo low_linearity_features\")\n",
    "run_model(X.drop(low_linearity_features, axis=1),y)\n",
    "\n",
    "print(\"\\nNo categorical_features + low_linearity_features\")\n",
    "run_model(X.drop((categorical_features + low_linearity_features), axis=1),y)"
   ]
  },
  {
   "cell_type": "markdown",
   "metadata": {},
   "source": [
    "# Conclusions\n",
    "\n",
    "- Removing low_linearity_features had no / very small negative impact, maybe they are really useless.\n",
    "- But removing categorical_features has a big negative impact on the score. I will use \"Dummy encoding\" to better fit these features "
   ]
  },
  {
   "cell_type": "markdown",
   "metadata": {},
   "source": [
    "# Dummy encoding\n",
    "\n",
    "These are the categorical features we need to encode:\n",
    "- waterfront - A dummy variable for whether the apartment was overlooking the waterfront or not\n",
    "- view - An index from 0 to 4 of how good the view of the property was\n",
    "- condition - An index from 1 to 5 on the condition of the apartment,\n",
    "- grade - An index from 1 to 13, where 1-3 falls short of building construction and design, 7 has an average level of construction and design, and 11-13 have a high quality level of construction and design.\n",
    "\n",
    "Note: I'm using 'drop_first=True': if one categorical variable has n values, dummy encoding converts it into n-1 variables."
   ]
  },
  {
   "cell_type": "code",
   "execution_count": 102,
   "metadata": {},
   "outputs": [
    {
     "data": {
      "text/html": [
       "<div>\n",
       "<style scoped>\n",
       "    .dataframe tbody tr th:only-of-type {\n",
       "        vertical-align: middle;\n",
       "    }\n",
       "\n",
       "    .dataframe tbody tr th {\n",
       "        vertical-align: top;\n",
       "    }\n",
       "\n",
       "    .dataframe thead th {\n",
       "        text-align: right;\n",
       "    }\n",
       "</style>\n",
       "<table border=\"1\" class=\"dataframe\">\n",
       "  <thead>\n",
       "    <tr style=\"text-align: right;\">\n",
       "      <th></th>\n",
       "      <th>bedrooms</th>\n",
       "      <th>bathrooms</th>\n",
       "      <th>sqft_living</th>\n",
       "      <th>sqft_lot</th>\n",
       "      <th>floors</th>\n",
       "      <th>sqft_above</th>\n",
       "      <th>sqft_basement</th>\n",
       "      <th>yr_built</th>\n",
       "      <th>yr_renovated</th>\n",
       "      <th>lat</th>\n",
       "      <th>...</th>\n",
       "      <th>grade_4</th>\n",
       "      <th>grade_5</th>\n",
       "      <th>grade_6</th>\n",
       "      <th>grade_7</th>\n",
       "      <th>grade_8</th>\n",
       "      <th>grade_9</th>\n",
       "      <th>grade_10</th>\n",
       "      <th>grade_11</th>\n",
       "      <th>grade_12</th>\n",
       "      <th>grade_13</th>\n",
       "    </tr>\n",
       "  </thead>\n",
       "  <tbody>\n",
       "    <tr>\n",
       "      <th>0</th>\n",
       "      <td>3</td>\n",
       "      <td>1.00</td>\n",
       "      <td>1180</td>\n",
       "      <td>5650</td>\n",
       "      <td>1.0</td>\n",
       "      <td>1180</td>\n",
       "      <td>0</td>\n",
       "      <td>1955</td>\n",
       "      <td>0</td>\n",
       "      <td>47.5112</td>\n",
       "      <td>...</td>\n",
       "      <td>0</td>\n",
       "      <td>0</td>\n",
       "      <td>0</td>\n",
       "      <td>1</td>\n",
       "      <td>0</td>\n",
       "      <td>0</td>\n",
       "      <td>0</td>\n",
       "      <td>0</td>\n",
       "      <td>0</td>\n",
       "      <td>0</td>\n",
       "    </tr>\n",
       "    <tr>\n",
       "      <th>1</th>\n",
       "      <td>3</td>\n",
       "      <td>2.25</td>\n",
       "      <td>2570</td>\n",
       "      <td>7242</td>\n",
       "      <td>2.0</td>\n",
       "      <td>2170</td>\n",
       "      <td>400</td>\n",
       "      <td>1951</td>\n",
       "      <td>1991</td>\n",
       "      <td>47.7210</td>\n",
       "      <td>...</td>\n",
       "      <td>0</td>\n",
       "      <td>0</td>\n",
       "      <td>0</td>\n",
       "      <td>1</td>\n",
       "      <td>0</td>\n",
       "      <td>0</td>\n",
       "      <td>0</td>\n",
       "      <td>0</td>\n",
       "      <td>0</td>\n",
       "      <td>0</td>\n",
       "    </tr>\n",
       "    <tr>\n",
       "      <th>2</th>\n",
       "      <td>2</td>\n",
       "      <td>1.00</td>\n",
       "      <td>770</td>\n",
       "      <td>10000</td>\n",
       "      <td>1.0</td>\n",
       "      <td>770</td>\n",
       "      <td>0</td>\n",
       "      <td>1933</td>\n",
       "      <td>0</td>\n",
       "      <td>47.7379</td>\n",
       "      <td>...</td>\n",
       "      <td>0</td>\n",
       "      <td>0</td>\n",
       "      <td>1</td>\n",
       "      <td>0</td>\n",
       "      <td>0</td>\n",
       "      <td>0</td>\n",
       "      <td>0</td>\n",
       "      <td>0</td>\n",
       "      <td>0</td>\n",
       "      <td>0</td>\n",
       "    </tr>\n",
       "    <tr>\n",
       "      <th>3</th>\n",
       "      <td>4</td>\n",
       "      <td>3.00</td>\n",
       "      <td>1960</td>\n",
       "      <td>5000</td>\n",
       "      <td>1.0</td>\n",
       "      <td>1050</td>\n",
       "      <td>910</td>\n",
       "      <td>1965</td>\n",
       "      <td>0</td>\n",
       "      <td>47.5208</td>\n",
       "      <td>...</td>\n",
       "      <td>0</td>\n",
       "      <td>0</td>\n",
       "      <td>0</td>\n",
       "      <td>1</td>\n",
       "      <td>0</td>\n",
       "      <td>0</td>\n",
       "      <td>0</td>\n",
       "      <td>0</td>\n",
       "      <td>0</td>\n",
       "      <td>0</td>\n",
       "    </tr>\n",
       "    <tr>\n",
       "      <th>4</th>\n",
       "      <td>3</td>\n",
       "      <td>2.00</td>\n",
       "      <td>1680</td>\n",
       "      <td>8080</td>\n",
       "      <td>1.0</td>\n",
       "      <td>1680</td>\n",
       "      <td>0</td>\n",
       "      <td>1987</td>\n",
       "      <td>0</td>\n",
       "      <td>47.6168</td>\n",
       "      <td>...</td>\n",
       "      <td>0</td>\n",
       "      <td>0</td>\n",
       "      <td>0</td>\n",
       "      <td>0</td>\n",
       "      <td>1</td>\n",
       "      <td>0</td>\n",
       "      <td>0</td>\n",
       "      <td>0</td>\n",
       "      <td>0</td>\n",
       "      <td>0</td>\n",
       "    </tr>\n",
       "  </tbody>\n",
       "</table>\n",
       "<p>5 rows × 33 columns</p>\n",
       "</div>"
      ],
      "text/plain": [
       "   bedrooms  bathrooms  sqft_living  sqft_lot  floors  sqft_above  \\\n",
       "0         3       1.00         1180      5650     1.0        1180   \n",
       "1         3       2.25         2570      7242     2.0        2170   \n",
       "2         2       1.00          770     10000     1.0         770   \n",
       "3         4       3.00         1960      5000     1.0        1050   \n",
       "4         3       2.00         1680      8080     1.0        1680   \n",
       "\n",
       "   sqft_basement  yr_built  yr_renovated      lat  ...  grade_4  grade_5  \\\n",
       "0              0      1955             0  47.5112  ...        0        0   \n",
       "1            400      1951          1991  47.7210  ...        0        0   \n",
       "2              0      1933             0  47.7379  ...        0        0   \n",
       "3            910      1965             0  47.5208  ...        0        0   \n",
       "4              0      1987             0  47.6168  ...        0        0   \n",
       "\n",
       "   grade_6  grade_7  grade_8  grade_9  grade_10  grade_11  grade_12  grade_13  \n",
       "0        0        1        0        0         0         0         0         0  \n",
       "1        0        1        0        0         0         0         0         0  \n",
       "2        1        0        0        0         0         0         0         0  \n",
       "3        0        1        0        0         0         0         0         0  \n",
       "4        0        0        1        0         0         0         0         0  \n",
       "\n",
       "[5 rows x 33 columns]"
      ]
     },
     "execution_count": 102,
     "metadata": {},
     "output_type": "execute_result"
    }
   ],
   "source": [
    "X_dummies =  pd.get_dummies(X, columns = categorical_features, prefix = categorical_features, drop_first=True)\n",
    "X_dummies.head()"
   ]
  },
  {
   "cell_type": "code",
   "execution_count": 103,
   "metadata": {},
   "outputs": [
    {
     "data": {
      "text/plain": [
       "Index(['bedrooms', 'bathrooms', 'sqft_living', 'sqft_lot', 'floors',\n",
       "       'sqft_above', 'sqft_basement', 'yr_built', 'yr_renovated', 'lat',\n",
       "       'long', 'sqft_living15', 'sqft_lot15', 'waterfront_1', 'view_1',\n",
       "       'view_2', 'view_3', 'view_4', 'condition_2', 'condition_3',\n",
       "       'condition_4', 'condition_5', 'grade_3', 'grade_4', 'grade_5',\n",
       "       'grade_6', 'grade_7', 'grade_8', 'grade_9', 'grade_10', 'grade_11',\n",
       "       'grade_12', 'grade_13'],\n",
       "      dtype='object')"
      ]
     },
     "execution_count": 103,
     "metadata": {},
     "output_type": "execute_result"
    }
   ],
   "source": [
    "X_dummies.columns"
   ]
  },
  {
   "cell_type": "code",
   "execution_count": 104,
   "metadata": {},
   "outputs": [
    {
     "name": "stdout",
     "output_type": "stream",
     "text": [
      "\n",
      "All data with categorical dummies\n",
      "Train :: R^2 = 0.73 :: RMSE = 188033.65\n",
      "Test  :: R^2 = 0.71 :: RMSE = 207635.77\n"
     ]
    }
   ],
   "source": [
    "print(\"\\nAll data with categorical dummies\")\n",
    "run_model(X_dummies,y)"
   ]
  },
  {
   "cell_type": "code",
   "execution_count": 105,
   "metadata": {},
   "outputs": [
    {
     "data": {
      "text/plain": [
       "{'fit_time': array([0.05485249, 0.0428853 , 0.06482744, 0.03989339, 0.03989387]),\n",
       " 'score_time': array([0.00698161, 0.01296496, 0.00897503, 0.00897646, 0.00598311]),\n",
       " 'test_score': array([0.71397152, 0.73161878, 0.72308369, 0.71181043, 0.71728635]),\n",
       " 'train_score': array([0.72957632, 0.72488619, 0.72684743, 0.72895723, 0.7265156 ])}"
      ]
     },
     "execution_count": 105,
     "metadata": {},
     "output_type": "execute_result"
    }
   ],
   "source": [
    "lr = LinearRegression()\n",
    "cross_validate(lr, X_dummies, y, cv=5, return_train_score=True)"
   ]
  },
  {
   "cell_type": "markdown",
   "metadata": {},
   "source": [
    "# Conclusion\n",
    "Model improved using categorical features as dummies!"
   ]
  },
  {
   "cell_type": "markdown",
   "metadata": {},
   "source": [
    "# GridSearchCV, Pipeline and PolynomialFeatures\n",
    "\n",
    "- I'll try to improve my model applying PolynomialFeatures transformation. \n",
    "- I'll use GridSearchCV to find the optimal polynomial order.\n",
    "\n",
    "Note: This took 1 minute to run on my computer\n"
   ]
  },
  {
   "cell_type": "code",
   "execution_count": 106,
   "metadata": {},
   "outputs": [],
   "source": [
    "pipe = Pipeline([('poly', PolynomialFeatures()),('lr', LinearRegression())])\n",
    "params = {'poly__degree' : [1,2,3]}"
   ]
  },
  {
   "cell_type": "code",
   "execution_count": 107,
   "metadata": {},
   "outputs": [],
   "source": [
    "grid = GridSearchCV(pipe, param_grid=params, cv=5, scoring='neg_root_mean_squared_error')"
   ]
  },
  {
   "cell_type": "code",
   "execution_count": 108,
   "metadata": {},
   "outputs": [
    {
     "data": {
      "text/plain": [
       "GridSearchCV(cv=5, error_score=nan,\n",
       "             estimator=Pipeline(memory=None,\n",
       "                                steps=[('poly',\n",
       "                                        PolynomialFeatures(degree=2,\n",
       "                                                           include_bias=True,\n",
       "                                                           interaction_only=False,\n",
       "                                                           order='C')),\n",
       "                                       ('lr',\n",
       "                                        LinearRegression(copy_X=True,\n",
       "                                                         fit_intercept=True,\n",
       "                                                         n_jobs=None,\n",
       "                                                         normalize=False))],\n",
       "                                verbose=False),\n",
       "             iid='deprecated', n_jobs=None,\n",
       "             param_grid={'poly__degree': [1, 2, 3]}, pre_dispatch='2*n_jobs',\n",
       "             refit=True, return_train_score=False,\n",
       "             scoring='neg_root_mean_squared_error', verbose=0)"
      ]
     },
     "execution_count": 108,
     "metadata": {},
     "output_type": "execute_result"
    }
   ],
   "source": [
    "#remove low_linearity_features to improve speed\n",
    "X_dummies = X_dummies.drop(low_linearity_features, axis=1)\n",
    "grid.fit(X_dummies, y)"
   ]
  },
  {
   "cell_type": "code",
   "execution_count": 109,
   "metadata": {},
   "outputs": [
    {
     "data": {
      "text/plain": [
       "{'poly__degree': 1}"
      ]
     },
     "execution_count": 109,
     "metadata": {},
     "output_type": "execute_result"
    }
   ],
   "source": [
    "grid.best_params_"
   ]
  },
  {
   "cell_type": "code",
   "execution_count": 110,
   "metadata": {},
   "outputs": [
    {
     "data": {
      "text/plain": [
       "{'mean_fit_time': array([5.34570217e-02, 1.00342236e+00, 9.42506470e+01]),\n",
       " 'std_fit_time': array([6.07014395e-03, 4.33382558e-02, 2.77550928e+01]),\n",
       " 'mean_score_time': array([0.00558496, 0.05445466, 0.3707098 ]),\n",
       " 'std_score_time': array([0.00048862, 0.00421232, 0.12954889]),\n",
       " 'param_poly__degree': masked_array(data=[1, 2, 3],\n",
       "              mask=[False, False, False],\n",
       "        fill_value='?',\n",
       "             dtype=object),\n",
       " 'params': [{'poly__degree': 1}, {'poly__degree': 2}, {'poly__degree': 3}],\n",
       " 'split0_test_score': array([  -216307.27595099,  -3444563.38952802, -12921968.98179559]),\n",
       " 'split1_test_score': array([  -201893.99365607,  -1635731.93880393, -10855103.8906067 ]),\n",
       " 'split2_test_score': array([  -189147.29820089,   -172562.8344946 , -32314444.06725904]),\n",
       " 'split3_test_score': array([ -199870.32849201,  -239660.31387549, -8279656.80102861]),\n",
       " 'split4_test_score': array([  -196456.37761207, -11319070.98157596, -24250814.48264351]),\n",
       " 'mean_test_score': array([  -200735.05478241,  -3362317.8916556 , -17724397.64466669]),\n",
       " 'std_test_score': array([8.91255456e+03, 4.15266928e+06, 9.10952489e+06]),\n",
       " 'rank_test_score': array([1, 2, 3])}"
      ]
     },
     "execution_count": 110,
     "metadata": {},
     "output_type": "execute_result"
    }
   ],
   "source": [
    "grid.cv_results_"
   ]
  },
  {
   "cell_type": "code",
   "execution_count": 111,
   "metadata": {},
   "outputs": [
    {
     "name": "stdout",
     "output_type": "stream",
     "text": [
      "Test :: RMSE = -200735.05\n"
     ]
    }
   ],
   "source": [
    "print(\"Test :: RMSE = \" + \"%.2f\"%grid.cv_results_['mean_test_score'][0])"
   ]
  },
  {
   "cell_type": "markdown",
   "metadata": {},
   "source": [
    "# Conclusion\n",
    "\n",
    "Sadly, PolynomialFeatures of orders 2 and 3 didn't improve my model."
   ]
  },
  {
   "cell_type": "markdown",
   "metadata": {},
   "source": [
    "# Final\n",
    "\n",
    "#### Best model:\n",
    "\n",
    "- LinearRegression\n",
    "- Dummy categorical features\n",
    "\n",
    "#### Notes\n",
    "\n",
    "- PolynomialFeatures didn't improve model\n",
    "- Using low_linearity_features has little improvement on the model. ['yr_built', 'yr_renovated', 'long', 'sqft_lot', 'sqft_lot15'] "
   ]
  },
  {
   "cell_type": "code",
   "execution_count": null,
   "metadata": {},
   "outputs": [],
   "source": [
    "      "
   ]
  }
 ],
 "metadata": {
  "kernelspec": {
   "display_name": "Python 3",
   "language": "python",
   "name": "python3"
  },
  "language_info": {
   "codemirror_mode": {
    "name": "ipython",
    "version": 3
   },
   "file_extension": ".py",
   "mimetype": "text/x-python",
   "name": "python",
   "nbconvert_exporter": "python",
   "pygments_lexer": "ipython3",
   "version": "3.7.6"
  }
 },
 "nbformat": 4,
 "nbformat_minor": 4
}
